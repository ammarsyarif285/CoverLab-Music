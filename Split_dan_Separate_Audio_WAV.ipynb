import librosa
import numpy as np
import matplotlib.pyplot as plt

def separate_vocal_noise_instrument(input_file, output_vocal_file, output_noise_file, output_instrument_file):
    y, sr = librosa.load(input_file)

    # Melakukan pemisahan vokal, noise, dan instrumen menggunakan Harmonic-Percussive Source Separation (HPSS)
    harmonic, percussive = librosa.effects.hpss(y)

    # Menghasilkan sinyal noise dengan mengurangkan komponen harmonik dari sinyal asli
    noise = y - harmonic

    # Menyimpan vokal, noise, dan instrumen dalam file terpisah
    librosa.output.write_wav(output_vocal_file, harmonic, sr)
    librosa.output.write_wav(output_noise_file, noise, sr)
    librosa.output.write_wav(output_instrument_file, percussive, sr)

    print("Pemisahan selesai dan file tersimpan.")

# Ganti dengan lokasi file audio yang ingin Anda pisah
input_audio_file = 'path_to_input_audio.wav'
output_vocal_file = 'path_to_output_vocal.wav'
output_noise_file = 'path_to_output_noise.wav'
output_instrument_file = 'path_to_output_instrument.wav'

separate_vocal_noise_instrument(input_audio_file, output_vocal_file, output_noise_file, output_instrument_file)
